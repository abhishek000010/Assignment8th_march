{
 "cells": [
  {
   "cell_type": "code",
   "execution_count": null,
   "id": "373b8afe-9045-47ad-bcb6-5461fb8d1a5d",
   "metadata": {},
   "outputs": [],
   "source": [
    "Q1 -> What is the Probability density function?\n",
    "\n",
    "Ans -> The probability density function (PDF) is a concept in probability theory and statistics that describes the probability distribution of a continuous random variable. It is often denoted as f(x) or p(x), where x represents a particular value of the random variable.\n",
    "\n",
    "The PDF provides a mathematical function that specifies the relative likelihood of the random variable taking on different values within a given range. Unlike discrete random variables, which can only assume a finite or countable number of values, continuous random variables can take on an infinite number of possible values within a specified range.\n",
    "\n",
    "The PDF is defined such that the probability of the random variable falling within a particular interval is equal to the integral of the PDF over that interval. In other words, the area under the PDF curve between two points represents the probability of the random variable taking on a value within that range.\n",
    "\n",
    "The PDF must satisfy certain properties. It must be non-negative, meaning that f(x) ≥ 0 for all x, and the total area under the PDF curve must equal 1, representing the probability of the random variable taking on any value within its range.\n",
    "\n",
    "The PDF is a fundamental concept in statistics and is used in various applications, such as hypothesis testing, estimation, and modeling of continuous data. It provides a mathematical representation of the probability distribution of a continuous random variable, allowing for the calculation of probabilities and other statistical quantities.\n"
   ]
  },
  {
   "cell_type": "code",
   "execution_count": null,
   "id": "104dc6a7-b9d8-480d-81fc-38dea5f90164",
   "metadata": {},
   "outputs": [],
   "source": [
    "Q2 -> What are the types of Probability distribution?\n",
    "\n",
    "Ans ->\n",
    "Uniform Distribution: In this distribution, all outcomes within a specified range are equally likely. The PDF is a constant function over the range of the distribution.\n",
    "\n",
    "Normal Distribution (Gaussian Distribution): The normal distribution is one of the most important and widely used distributions. It is characterized by a symmetric bell-shaped curve. Many real-world phenomena, such as heights and weights of people, often follow a normal distribution.\n",
    "\n",
    "Binomial Distribution: The binomial distribution describes the probability of obtaining a certain number of successes in a fixed number of independent Bernoulli trials, where each trial has two possible outcomes (success or failure). It is often used to model situations involving binary events, such as coin flips or the success/failure of experiments.\n",
    "\n",
    "Poisson Distribution: The Poisson distribution models the number of events occurring in a fixed interval of time or space, given a known average rate of occurrence. It is commonly used to model rare events, such as the number of phone calls received by a call center in a given hour.\n",
    "\n",
    "Bernoulli Distribution: The Bernoulli distribution represents a single trial with two possible outcomes, typically labeled as \"success\" and \"failure.\" It is characterized by a probability parameter, p, which represents the probability of success. The distribution assigns a probability of p to the success outcome and (1-p) to the failure outcome."
   ]
  },
  {
   "cell_type": "code",
   "execution_count": null,
   "id": "3de5ada7-7939-4a63-8d4a-2ac9cbf44bcb",
   "metadata": {},
   "outputs": [],
   "source": [
    "Q3 -> Write a Python function to calculate the probability density function of a normal distribution with\n",
    "given mean and standard deviation at a given point.\n",
    "\n",
    "Ans -> \n",
    "import math \n",
    "\n",
    "def normal_pdf(x, mean , std_dev):\n",
    "    coefficient = 1 / (std_dev * math.sqrt(2 * math.pi))\n",
    "    exponent = -0.5 * ((x-mean) / std_Dev) ** 2\n",
    "    pdf = coefficient * math.exp(exponent)\n",
    "    return pdf\n",
    "\n",
    "mean = 0 \n",
    "std_dev = 1\n",
    "pdf_value = normal_pdf(x, mean , std_dev)\n",
    "print(f\"the pdf value at x = {x} is {pdf_value}\")"
   ]
  },
  {
   "cell_type": "code",
   "execution_count": null,
   "id": "d7f5dbc3-d373-4d80-bd3c-10e44ef601b6",
   "metadata": {},
   "outputs": [],
   "source": [
    "Q4 -> What are the properties of Binomial distribution? Give two examples of events where binomial\n",
    "distribution can be applied.\n",
    "\n",
    "Ans -> The properties of a binomial distribution are as follows:\n",
    "\n",
    "Fixed number of trials: The distribution represents the probability of a specific number of successes (or failures) in a fixed number of independent trials.\n",
    "\n",
    "Two possible outcomes: Each trial has only two possible outcomes, typically referred to as success (S) or failure (F). These outcomes must be mutually exclusive and exhaustive.\n",
    "\n",
    "Independent trials: Each trial is independent of the others, meaning that the outcome of one trial does not affect the outcome of any other trial.\n",
    "\n",
    "Constant probability of success: The probability of success (denoted by p) remains constant for each trial. Similarly, the probability of failure (denoted by q, where q = 1 - p) remains constant.\n",
    "\n",
    "Countable number of successes: The random variable of interest is the count of successes in the fixed number of trials. This count can range from 0 to the total number of trials.\n",
    "\n",
    "Examples of events where the binomial distribution can be applied are:\n",
    "\n",
    "Coin tosses: Consider a scenario where you toss a fair coin multiple times. Each toss can be considered as a trial, and the outcome of interest is the number of times the coin lands on heads (success) out of the total number of tosses. Here, the binomial distribution can be used to calculate the probabilities of obtaining a specific number of heads.\n",
    "\n",
    "Exam results: Suppose you have a class of students taking a multiple-choice exam with a fixed number of questions. Each question has two possible outcomes: the student either answers correctly (success) or incorrectly (failure). The binomial distribution can be applied to calculate the probabilities of various numbers of correct answers among the students, assuming that each student's responses are independent and the probability of answering correctly remains constant for all questions."
   ]
  },
  {
   "cell_type": "code",
   "execution_count": null,
   "id": "57e1591b-19f1-46dd-a4e0-42a6c71ba1ad",
   "metadata": {},
   "outputs": [],
   "source": [
    "Q5 -> Generate a random sample of size 1000 from a binomial distribution with probability of success 0.4\n",
    "and plot a histogram of the results using matplotlib.\n",
    "\n",
    "Ans -> \n",
    "import math \n",
    "import matplotlib.pyplot as plt\n",
    "\n",
    "n = 1000\n",
    "p = 0.4\n",
    "\n",
    "sample = np.random.binomial(1,p,n)\n",
    "plt.hist(sample, bins = 2 , edgecolor = 'black')\n",
    "plt.xlabel('success or failure')\n",
    "plt.ylabel('frequency')\n",
    "plt.title('binomial Distribution with p = 0.4')\n",
    "plt.xticks([0.25 , 0.75] , ['failure ']"
   ]
  },
  {
   "cell_type": "code",
   "execution_count": null,
   "id": "60412188-feae-43aa-9080-e2ba8b44ec35",
   "metadata": {},
   "outputs": [],
   "source": [
    "Q6 -> Write a Python function to calculate the cumulative distribution function of a Poisson distribution\n",
    "with given mean at a given point.\n",
    "\n",
    "Ans -> \n",
    "from scipy.stats import poisson\n",
    "\n",
    "def poisson_cdf(mean , point):\n",
    "    return poisson.cdf(point, nean)\n",
    "\n",
    "mean = 3.5 \n",
    "point = 2 \n",
    "cdf = poisson_cdf(mean , point)\n",
    "print(cdf)"
   ]
  },
  {
   "cell_type": "code",
   "execution_count": null,
   "id": "9b789393-627f-4073-831a-d27f97dd3cdf",
   "metadata": {},
   "outputs": [],
   "source": [
    "Q7 ->How Binomial distribution different from Poisson distribution?\n",
    "\n",
    "Ans -> \n",
    "The Binomial and Poisson distributions are both discrete probability distributions, but they differ in terms of the conditions under which they are applicable and their underlying assumptions. Here's a brief explanation of the differences between the two distributions:\n",
    "\n",
    "Conditions:\n",
    "\n",
    "Binomial Distribution: The binomial distribution is applicable when we have a fixed number of independent trials (n), each with two possible outcomes (success or failure), and the probability of success (p) remains constant for each trial.\n",
    "Poisson Distribution: The Poisson distribution is applicable when we have a large number of independent events occurring in a fixed interval of time or space, and we are interested in the number of events that occur within that interval.\n",
    "Probability Mass Function (PMF):\n",
    "\n",
    "Binomial Distribution: The PMF of the binomial distribution calculates the probability of obtaining a specific number of successes (k) in a fixed number of trials (n) with a given probability of success (p).\n",
    "Poisson Distribution: The PMF of the Poisson distribution calculates the probability of observing a specific number of events (k) occurring in a fixed interval of time or space, given the average rate of events (λ) per interval.\n",
    "Assumptions:\n",
    "\n",
    "Binomial Distribution: The binomial distribution assumes that the trials are independent, the probability of success remains constant, and there are only two possible outcomes (success or failure) for each trial.\n",
    "Poisson Distribution: The Poisson distribution assumes that the events occur randomly and independently in a fixed interval, the average rate of events is constant, and the probability of more than one event occurring in an infinitesimally small interval is negligible.\n",
    "Parameters:\n",
    "\n",
    "Binomial Distribution: The binomial distribution is characterized by two parameters: the number of trials (n) and the probability of success (p).\n",
    "Poisson Distribution: The Poisson distribution is characterized by a single parameter: the average rate of events (λ) per interval.\n",
    "In summary, the binomial distribution is used to model the number of successes in a fixed number of trials with a constant probability of success, while the Poisson distribution is used to model the number of events occurring in a fixed interval when the events are random and occur independently."
   ]
  },
  {
   "cell_type": "code",
   "execution_count": null,
   "id": "93cc9df3-83a0-4c22-a651-4ca5900d5d17",
   "metadata": {},
   "outputs": [],
   "source": [
    "Q8 -> Generate a random sample of size 1000 from a Poisson distribution with mean 5 and calculate the\n",
    "sample mean and variance.\n",
    "\n",
    "Ans -> import numpy as np\n",
    "\n",
    "np.random.seed(42)\n",
    "\n",
    "sample = np.random.poisson(5,  size = 1000)\n",
    "\n",
    "sample_mean = np.mean(sample)\n",
    "sample_var = np.var(sample)\n",
    "\n",
    "print(sample_mean)\n",
    "print(sample_var)"
   ]
  },
  {
   "cell_type": "code",
   "execution_count": null,
   "id": "92108452-9adc-4af3-bf6e-5e1ffc416d85",
   "metadata": {
    "tags": []
   },
   "outputs": [],
   "source": [
    "Q9 -> How mean and variance are related in Binomial distribution and Poisson distribution?\n",
    "\n",
    "Ans -> In both the Binomial and Poisson distributions, the mean and variance are related, but the nature of their relationship differs. Here's how the mean and variance are related in each distribution:\n",
    "\n",
    "Binomial Distribution:\n",
    "In a Binomial distribution, the mean (μ) and variance (σ^2) are related by the formula:\n",
    "\n",
    "σ^2 = n * p * (1 - p)\n",
    "\n",
    "where:\n",
    "\n",
    "n is the number of trials\n",
    "p is the probability of success in each trial\n",
    "The variance of a Binomial distribution is equal to the product of the number of trials, the probability of success, and the probability of failure (1 - p).\n",
    "\n",
    "As the number of trials increases (n), the variance tends to increase as well. However, if the probability of success (p) remains constant, the variance is directly proportional to the product of n and p(1-p). This means that as the probability of success becomes more extreme (close to 0 or 1), the variance decreases.\n",
    "\n",
    "Poisson Distribution:\n",
    "In a Poisson distribution, the mean (λ) and variance (σ^2) are equal. This property is unique to the Poisson distribution. The formula for the mean and variance of a Poisson distribution is simply:\n",
    "\n",
    "μ = λ\n",
    "σ^2 = λ\n",
    "\n",
    "The mean and variance of a Poisson distribution are both equal to the parameter λ, which represents the average rate of events occurring in a fixed interval of time or space. This means that the variance is independent of the sample size or the number of events.\n",
    "\n",
    "In summary, in the Binomial distribution, the variance is related to both the number of trials and the probability of success, while in the Poisson distribution, the variance is equal to the mean and solely depends on the average rate of events."
   ]
  },
  {
   "cell_type": "code",
   "execution_count": null,
   "id": "4e7374e6-15ad-482d-b5bc-bf76679b092c",
   "metadata": {},
   "outputs": [],
   "source": [
    "Q10 -> In normal distribution with respect to mean position, where does the least frequent data appear?\n",
    "\n",
    "Ans -> In a normal distribution, the least frequent data points appear in the tails of the distribution, farthest from the mean. The normal distribution is symmetric, with the mean being the central point. The tails of the distribution represent the extreme values that occur with lower frequency compared to the values closer to the mean.\n",
    "\n",
    "In a standard normal distribution (with a mean of 0 and a standard deviation of 1), the least frequent data points appear in the tails beyond a certain number of standard deviations from the mean. Typically, data points that are more than 2 or 3 standard deviations away from the mean are considered relatively rare.\n",
    "\n",
    "For example, in a standard normal distribution:\n",
    "\n",
    "Data points within 1 standard deviation from the mean represent about 68% of the data.\n",
    "Data points within 2 standard deviations from the mean represent about 95% of the data.\n",
    "Data points within 3 standard deviations from the mean represent about 99.7% of the data.\n",
    "Thus, the data points that are located further away from the mean, beyond 2 or 3 standard deviations, occur with relatively lower frequency and are considered the least frequent in a normal distribution."
   ]
  }
 ],
 "metadata": {
  "kernelspec": {
   "display_name": "Python 3 (ipykernel)",
   "language": "python",
   "name": "python3"
  },
  "language_info": {
   "codemirror_mode": {
    "name": "ipython",
    "version": 3
   },
   "file_extension": ".py",
   "mimetype": "text/x-python",
   "name": "python",
   "nbconvert_exporter": "python",
   "pygments_lexer": "ipython3",
   "version": "3.10.8"
  }
 },
 "nbformat": 4,
 "nbformat_minor": 5
}
